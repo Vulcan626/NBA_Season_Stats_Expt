{
 "cells": [
  {
   "cell_type": "code",
   "id": "initial_id",
   "metadata": {
    "collapsed": true,
    "ExecuteTime": {
     "end_time": "2024-06-21T01:50:42.679296Z",
     "start_time": "2024-06-21T01:50:28.768459Z"
    }
   },
   "source": [
    "import pandas as pd\n",
    "from sklearn.preprocessing import StandardScaler, LabelEncoder\n",
    "from sklearn.model_selection import train_test_split\n",
    "from sklearn.neural_network import MLPClassifier\n",
    "from sklearn.metrics import classification_report\n",
    "\n",
    "# 读取数据\n",
    "data = pd.read_csv('dataset/NBA_Season_Stats.csv')\n",
    "\n",
    "# 数据清理：去除无关列并处理缺失值\n",
    "data_cleaned = data.drop(columns=['Player', 'Tm', 'Year'])\n",
    "data_cleaned = data_cleaned.dropna()\n",
    "\n",
    "# 选择用于分类的特征（根据重要性排名）\n",
    "selected_features = ['AST', 'TRB', 'MP', 'DRB', 'ORB', 'STL', 'BLK', 'FG%', 'eFG%', 'PF', 'TOV', 'PTS', '2P%', 'G', '3P%', 'Age', 'FT%']\n",
    "\n",
    "X = data_cleaned[selected_features]\n",
    "y = data_cleaned['Pos']\n",
    "\n",
    "# 标准化特征\n",
    "scaler = StandardScaler()\n",
    "X_scaled = scaler.fit_transform(X)\n",
    "\n",
    "# 标签编码\n",
    "label_encoder = LabelEncoder()\n",
    "y_encoded = label_encoder.fit_transform(y)\n",
    "\n",
    "# 数据分割\n",
    "X_train, X_test, y_train, y_test = train_test_split(X_scaled, y_encoded, test_size=0.2, random_state=42)\n",
    "\n",
    "# 训练MLP模型\n",
    "mlp = MLPClassifier(hidden_layer_sizes=(100,), max_iter=500, random_state=42)\n",
    "mlp.fit(X_train, y_train)\n",
    "\n",
    "# 预测\n",
    "y_pred = mlp.predict(X_test)\n",
    "\n",
    "# 输出结果\n",
    "Accuracy = mlp.score(X_test, y_test)\n",
    "print('Accuracy:', Accuracy)\n",
    "print('Classification Report:\\n', classification_report(y_test, y_pred))"
   ],
   "outputs": [
    {
     "name": "stdout",
     "output_type": "stream",
     "text": [
      "Accuracy: 0.6709072648141948\n",
      "Classification Report:\n",
      "               precision    recall  f1-score   support\n",
      "\n",
      "           0       0.64      0.63      0.63       393\n",
      "           1       0.63      0.58      0.60       605\n",
      "           2       0.83      0.86      0.84       713\n",
      "           3       0.61      0.59      0.60       643\n",
      "           4       0.60      0.66      0.63       633\n",
      "\n",
      "    accuracy                           0.67      2987\n",
      "   macro avg       0.66      0.66      0.66      2987\n",
      "weighted avg       0.67      0.67      0.67      2987\n",
      "\n"
     ]
    }
   ],
   "execution_count": 1
  },
  {
   "metadata": {
    "ExecuteTime": {
     "end_time": "2024-06-21T01:54:11.459208Z",
     "start_time": "2024-06-21T01:54:11.335211Z"
    }
   },
   "cell_type": "code",
   "source": [
    "# 绘制混淆矩阵\n",
    "import matplotlib.pyplot as plt\n",
    "from sklearn.metrics import confusion_matrix\n",
    "\n",
    "conf_matrix = confusion_matrix(y_test, y_pred)\n",
    "plt.matshow(conf_matrix, cmap='Blues', alpha=0.5)\n",
    "plt.colorbar()\n",
    "plt.title('Confusion Matrix for MLP')\n",
    "plt.xlabel('Predicted')\n",
    "plt.ylabel('Actual')\n",
    "plt.grid(False)\n",
    "# 显示每个单元格的数值\n",
    "for i in range(conf_matrix.shape[0]):\n",
    "    for j in range(conf_matrix.shape[1]):\n",
    "        plt.text(x=j, y=i, s=conf_matrix[i, j], va='center', ha='center')\n",
    "        \n",
    "plt.show()"
   ],
   "id": "aec1b0672eb981d1",
   "outputs": [
    {
     "data": {
      "text/plain": [
       "<Figure size 480x480 with 2 Axes>"
      ],
      "image/png": "[encoded data removed]"
     },
     "metadata": {},
     "output_type": "display_data"
    }
   ],
   "execution_count": 4
  },
  {
   "metadata": {
    "ExecuteTime": {
     "end_time": "2024-06-09T05:15:38.155095Z",
     "start_time": "2024-06-09T05:15:00.664799Z"
    }
   },
   "cell_type": "code",
   "source": [
    "import pandas as pd\n",
    "from sklearn.preprocessing import StandardScaler, LabelEncoder\n",
    "from sklearn.model_selection import train_test_split\n",
    "from sklearn.neural_network import MLPClassifier\n",
    "from sklearn.metrics import classification_report\n",
    "\n",
    "# 读取数据\n",
    "data = pd.read_csv('dataset/NBA_Season_Stats.csv')\n",
    "\n",
    "# 数据清理：去除无关列并处理缺失值\n",
    "data_cleaned = data.drop(columns=['Player', 'Tm', 'Year'])\n",
    "data_cleaned = data_cleaned.dropna()\n",
    "\n",
    "# 选择用于分类的特征（根据重要性排名）\n",
    "selected_features = ['AST', 'TRB', 'MP', 'DRB', 'ORB', 'STL', 'BLK', 'FG%', 'eFG%', 'PF', 'TOV', 'PTS', '2P%', 'G', '3P%', 'Age', 'FT%']\n",
    "\n",
    "X = data_cleaned[selected_features]\n",
    "y = data_cleaned['Pos']\n",
    "\n",
    "# 标准化特征\n",
    "scaler = StandardScaler()\n",
    "X_scaled = scaler.fit_transform(X)\n",
    "\n",
    "# 标签编码\n",
    "label_encoder = LabelEncoder()\n",
    "y_encoded = label_encoder.fit_transform(y)\n",
    "\n",
    "# 数据分割\n",
    "X_train, X_test, y_train, y_test = train_test_split(X_scaled, y_encoded, test_size=0.2, random_state=42)\n",
    "\n",
    "# 训练MLP模型，添加正则化、学习率调整和提前终止策略\n",
    "mlp = MLPClassifier(hidden_layer_sizes=(100,), alpha=0.0001, learning_rate='adaptive', early_stopping=False, max_iter=500, random_state=42)\n",
    "mlp.fit(X_train, y_train)\n",
    "\n",
    "# 预测\n",
    "y_pred = mlp.predict(X_test)\n",
    "\n",
    "# 输出结果\n",
    "accuracy = mlp.score(X_test, y_test)\n",
    "print('Accuracy:', accuracy)\n",
    "print('Classification Report:\\n', classification_report(y_test, y_pred))"
   ],
   "id": "834f14112942ad0a",
   "outputs": [
    {
     "name": "stdout",
     "output_type": "stream",
     "text": [
      "Accuracy: 0.6709072648141948\n",
      "Classification Report:\n",
      "               precision    recall  f1-score   support\n",
      "\n",
      "           0       0.64      0.63      0.63       393\n",
      "           1       0.63      0.58      0.60       605\n",
      "           2       0.83      0.86      0.84       713\n",
      "           3       0.61      0.59      0.60       643\n",
      "           4       0.60      0.66      0.63       633\n",
      "\n",
      "    accuracy                           0.67      2987\n",
      "   macro avg       0.66      0.66      0.66      2987\n",
      "weighted avg       0.67      0.67      0.67      2987\n",
      "\n"
     ]
    }
   ],
   "execution_count": 16
  },
  {
   "metadata": {
    "ExecuteTime": {
     "end_time": "2024-06-09T05:19:23.286903Z",
     "start_time": "2024-06-09T05:19:05.695028Z"
    }
   },
   "cell_type": "code",
   "source": [
    "import pandas as pd\n",
    "from sklearn.preprocessing import StandardScaler, LabelEncoder\n",
    "from sklearn.model_selection import train_test_split\n",
    "from sklearn.ensemble import RandomForestClassifier, GradientBoostingClassifier, VotingClassifier\n",
    "from sklearn.neural_network import MLPClassifier\n",
    "from sklearn.metrics import classification_report\n",
    "\n",
    "# 读取数据\n",
    "data = pd.read_csv('dataset/NBA_Season_Stats.csv')\n",
    "\n",
    "# 数据清理：去除无关列并处理缺失值\n",
    "data_cleaned = data.drop(columns=['Player', 'Tm', 'Year'])\n",
    "data_cleaned = data_cleaned.dropna()\n",
    "\n",
    "# 选择用于分类的特征（根据重要性排名）\n",
    "selected_features = ['AST', 'TRB', 'MP', 'DRB', 'ORB', 'STL', 'BLK', 'FG%', 'eFG%', 'PF', 'TOV', 'PTS', '2P%', 'G', '3P%', 'Age', 'FT%']\n",
    "\n",
    "X = data_cleaned[selected_features]\n",
    "y = data_cleaned['Pos']\n",
    "\n",
    "# 标准化特征\n",
    "scaler = StandardScaler()\n",
    "X_scaled = scaler.fit_transform(X)\n",
    "\n",
    "# 标签编码\n",
    "label_encoder = LabelEncoder()\n",
    "y_encoded = label_encoder.fit_transform(y)\n",
    "\n",
    "# 数据分割\n",
    "X_train, X_test, y_train, y_test = train_test_split(X_scaled, y_encoded, test_size=0.2, random_state=42)\n",
    "\n",
    "# 定义基础模型\n",
    "mlp = MLPClassifier(hidden_layer_sizes=(100,), alpha=0.0001, learning_rate='adaptive', early_stopping=True, max_iter=500, random_state=42)\n",
    "rf = RandomForestClassifier(n_estimators=100, random_state=42)\n",
    "gb = GradientBoostingClassifier(n_estimators=100, random_state=42)\n",
    "\n",
    "# 定义投票分类器\n",
    "voting_clf = VotingClassifier(estimators=[\n",
    "    ('mlp', mlp),\n",
    "    ('rf', rf),\n",
    "    ('gb', gb)\n",
    "], voting='soft')  # 'soft' 表示基于概率投票\n",
    "\n",
    "# 训练投票分类器\n",
    "voting_clf.fit(X_train, y_train)\n",
    "\n",
    "# 预测\n",
    "y_pred = voting_clf.predict(X_test)\n",
    "\n",
    "# 输出结果\n",
    "accuracy = voting_clf.score(X_test, y_test)\n",
    "print('Accuracy:', accuracy)\n",
    "print('Classification Report:\\n', classification_report(y_test, y_pred))"
   ],
   "id": "3af384fdfd0914c0",
   "outputs": [
    {
     "name": "stdout",
     "output_type": "stream",
     "text": [
      "Accuracy: 0.6739203213927017\n",
      "Classification Report:\n",
      "               precision    recall  f1-score   support\n",
      "\n",
      "           0       0.70      0.60      0.64       393\n",
      "           1       0.62      0.61      0.62       605\n",
      "           2       0.84      0.86      0.85       713\n",
      "           3       0.61      0.58      0.60       643\n",
      "           4       0.59      0.66      0.62       633\n",
      "\n",
      "    accuracy                           0.67      2987\n",
      "   macro avg       0.67      0.66      0.67      2987\n",
      "weighted avg       0.67      0.67      0.67      2987\n",
      "\n"
     ]
    }
   ],
   "execution_count": 17
  },
  {
   "metadata": {
    "ExecuteTime": {
     "end_time": "2024-06-21T01:54:28.738280Z",
     "start_time": "2024-06-21T01:54:28.600892Z"
    }
   },
   "cell_type": "code",
   "source": [
    "# 绘制混淆矩阵\n",
    "import matplotlib.pyplot as plt\n",
    "from sklearn.metrics import confusion_matrix\n",
    "\n",
    "conf_matrix = confusion_matrix(y_test, y_pred)\n",
    "plt.matshow(conf_matrix, cmap='Blues', alpha=0.5)\n",
    "plt.colorbar()\n",
    "plt.title('Confusion Matrix for Ensemble Model')\n",
    "plt.xlabel('Predicted')\n",
    "plt.ylabel('Actual')\n",
    "plt.grid(False)\n",
    "# 显示每个单元格的数值\n",
    "for i in range(conf_matrix.shape[0]):\n",
    "    for j in range(conf_matrix.shape[1]):\n",
    "        plt.text(x=j, y=i, s=conf_matrix[i, j], va='center', ha='center')\n",
    "plt.show()"
   ],
   "id": "919932e1913ae6a0",
   "outputs": [
    {
     "data": {
      "text/plain": [
       "<Figure size 480x480 with 2 Axes>"
      ],
      "image/png": "[encoded data removed]"
     },
     "metadata": {},
     "output_type": "display_data"
    }
   ],
   "execution_count": 5
  },
  {
   "metadata": {},
   "cell_type": "markdown",
   "source": [
    "1. Simple MLP model for NBA player position prediction:\n",
    "```\n",
    "Accuracy: 0.6709072648141948\n",
    "Classification Report:\n",
    "               precision    recall  f1-score   support\n",
    "\n",
    "           0       0.64      0.63      0.63       393\n",
    "           1       0.63      0.58      0.60       605\n",
    "           2       0.83      0.86      0.84       713\n",
    "           3       0.61      0.59      0.60       643\n",
    "           4       0.60      0.66      0.63       633\n",
    "\n",
    "    accuracy                           0.67      2987\n",
    "   macro avg       0.66      0.66      0.66      2987\n",
    "weighted avg       0.67      0.67      0.67      2987\n",
    "```\n",
    "\n",
    "2. Ensemble model(Voting Classifier with MLP, Random Forest, Gradient Boosting) for NBA player position prediction:\n",
    "```\n",
    "Accuracy: 0.6739203213927017\n",
    "Classification Report:\n",
    "               precision    recall  f1-score   support\n",
    "\n",
    "           0       0.70      0.60      0.64       393\n",
    "           1       0.62      0.61      0.62       605\n",
    "           2       0.84      0.86      0.85       713\n",
    "           3       0.61      0.58      0.60       643\n",
    "           4       0.59      0.66      0.62       633\n",
    "\n",
    "    accuracy                           0.67      2987\n",
    "   macro avg       0.67      0.66      0.67      2987\n",
    "weighted avg       0.67      0.67      0.67      2987\n",
    "```"
   ],
   "id": "c547b5661358b157"
  },
  {
   "metadata": {},
   "cell_type": "code",
   "outputs": [],
   "execution_count": null,
   "source": "",
   "id": "4b6720d8f32d4301"
  }
 ],
 "metadata": {
  "kernelspec": {
   "display_name": "Python 3",
   "language": "python",
   "name": "python3"
  },
  "language_info": {
   "codemirror_mode": {
    "name": "ipython",
    "version": 2
   },
   "file_extension": ".py",
   "mimetype": "text/x-python",
   "name": "python",
   "nbconvert_exporter": "python",
   "pygments_lexer": "ipython2",
   "version": "2.7.6"
  }
 },
 "nbformat": 4,
 "nbformat_minor": 5
}
